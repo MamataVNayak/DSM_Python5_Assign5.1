{
 "cells": [
  {
   "cell_type": "code",
   "execution_count": 13,
   "metadata": {},
   "outputs": [
    {
     "name": "stdout",
     "output_type": "stream",
     "text": [
      "Integer 1:5\n",
      "Integer 2:0\n",
      "Error : Cannot perform Zero Division operation\n",
      "Never perform zero division operation\n"
     ]
    }
   ],
   "source": [
    "#Assignment 5.1\n",
    "#Write a function to compute 5/0 and use try/except to catch the exceptions\n",
    "#5/0\n",
    "def divOperation(x,y):\n",
    "    result=0\n",
    "    try:\n",
    "        result=x/y\n",
    "        print(\"Result for division operation =\" +str(result))\n",
    "    except ZeroDivisionError:\n",
    "        print(\"Error : Cannot perform Zero Division operation\")\n",
    "    else:\n",
    "        print(\"Operation completed successfully\")\n",
    "    finally:\n",
    "        print(\"Never perform zero division operation\")\n",
    "    return result\n",
    "\n",
    "a=int(input(\"Integer 1:\"))\n",
    "b=int(input(\"Integer 2:\"))\n",
    "result=divOperation(a,b)\n",
    "\n"
   ]
  },
  {
   "cell_type": "code",
   "execution_count": null,
   "metadata": {},
   "outputs": [],
   "source": []
  },
  {
   "cell_type": "code",
   "execution_count": null,
   "metadata": {},
   "outputs": [],
   "source": []
  }
 ],
 "metadata": {
  "kernelspec": {
   "display_name": "Python 3",
   "language": "python",
   "name": "python3"
  },
  "language_info": {
   "codemirror_mode": {
    "name": "ipython",
    "version": 3
   },
   "file_extension": ".py",
   "mimetype": "text/x-python",
   "name": "python",
   "nbconvert_exporter": "python",
   "pygments_lexer": "ipython3",
   "version": "3.6.4"
  }
 },
 "nbformat": 4,
 "nbformat_minor": 2
}
